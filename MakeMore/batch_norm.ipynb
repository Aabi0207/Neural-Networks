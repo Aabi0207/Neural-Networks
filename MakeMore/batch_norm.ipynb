{
 "cells": [
  {
   "cell_type": "markdown",
   "id": "c5bb5c1d-fec6-42a3-b4c7-2ac237245a87",
   "metadata": {},
   "source": [
    "## Batch norm and Initilization and activations"
   ]
  },
  {
   "cell_type": "code",
   "execution_count": 23,
   "id": "35ce511a-f3a4-43ed-b9f0-aae053aca973",
   "metadata": {},
   "outputs": [],
   "source": [
    "import torch\n",
    "import torch.nn.functional as F\n",
    "import numpy as np\n",
    "import matplotlib.pyplot as plt\n",
    "%matplotlib inline\n",
    "import copy"
   ]
  },
  {
   "cell_type": "code",
   "execution_count": 2,
   "id": "688e56fb-f42c-474e-aad3-ac42f69ee71a",
   "metadata": {},
   "outputs": [],
   "source": [
    "words = open('30k.txt', 'r').read().splitlines()"
   ]
  },
  {
   "cell_type": "code",
   "execution_count": 3,
   "id": "ea176a1e-3e75-4d47-8ca1-f5750b11df8b",
   "metadata": {},
   "outputs": [
    {
     "data": {
      "text/plain": [
       "['the\\t', 'of\\t', 'and\\t', 'to\\t', 'a\\t']"
      ]
     },
     "execution_count": 3,
     "metadata": {},
     "output_type": "execute_result"
    }
   ],
   "source": [
    "words[:5]"
   ]
  },
  {
   "cell_type": "code",
   "execution_count": 4,
   "id": "3e7144eb-96ec-4af0-b5c0-525b8ce25494",
   "metadata": {},
   "outputs": [],
   "source": [
    "words = [''.join(ch for ch in word if ch != \"\\t\") for word in words]"
   ]
  },
  {
   "cell_type": "code",
   "execution_count": 5,
   "id": "55f81421-6f45-4de5-8535-1606471b43c9",
   "metadata": {},
   "outputs": [
    {
     "data": {
      "text/plain": [
       "['the', 'of', 'and', 'to', 'a']"
      ]
     },
     "execution_count": 5,
     "metadata": {},
     "output_type": "execute_result"
    }
   ],
   "source": [
    "words[:5]"
   ]
  },
  {
   "cell_type": "code",
   "execution_count": 6,
   "id": "f7a8e6a5-cf69-4873-a387-fa9db8a7356d",
   "metadata": {},
   "outputs": [
    {
     "data": {
      "text/plain": [
       "30000"
      ]
     },
     "execution_count": 6,
     "metadata": {},
     "output_type": "execute_result"
    }
   ],
   "source": [
    "len(words)"
   ]
  },
  {
   "cell_type": "markdown",
   "id": "194023db-89cf-4638-a79a-3242b876c1b3",
   "metadata": {},
   "source": [
    "## Create the dataset"
   ]
  },
  {
   "cell_type": "code",
   "execution_count": 7,
   "id": "ca03e0ac-eb69-400f-a5b1-951eae905251",
   "metadata": {},
   "outputs": [],
   "source": [
    "# The defaults are \n",
    "BLOCK_SIZE = 3"
   ]
  },
  {
   "cell_type": "code",
   "execution_count": 8,
   "id": "6a21647f-928a-499b-aa86-f894bbb2a6d0",
   "metadata": {},
   "outputs": [],
   "source": [
    "# create the mappings \n",
    "\n",
    "chars = sorted(list(set(''.join(word for word in words))))\n",
    "stoi = {s: i+1 for i, s in enumerate(chars)}\n",
    "stoi['.'] = 0\n",
    "itos = {i: s for s, i in stoi.items()}"
   ]
  },
  {
   "cell_type": "code",
   "execution_count": 9,
   "id": "d04e27a0-a9c2-4bb6-bbb1-44de61a5f273",
   "metadata": {},
   "outputs": [],
   "source": [
    "def build_dataset(data):\n",
    "    X, Y = [], []\n",
    "\n",
    "    for word in data:\n",
    "        context = [0] * BLOCK_SIZE\n",
    "        for ch in word + '.':\n",
    "            X.append(context)\n",
    "            Y.append(stoi[ch])\n",
    "            context = context[1:] + [stoi[ch]]\n",
    "\n",
    "    X = torch.tensor(X)\n",
    "    Y = torch.tensor(Y)\n",
    "    print(f\"X.shape = {X.shape}   ||   Y.shape = {Y.shape}\")\n",
    "\n",
    "    return X, Y"
   ]
  },
  {
   "cell_type": "code",
   "execution_count": 10,
   "id": "8de108d5-b4c8-4d6e-95b7-ac8bd223d103",
   "metadata": {},
   "outputs": [
    {
     "name": "stdout",
     "output_type": "stream",
     "text": [
      "X.shape = torch.Size([196639, 3])   ||   Y.shape = torch.Size([196639])\n",
      "X.shape = torch.Size([19717, 3])   ||   Y.shape = torch.Size([19717])\n",
      "X.shape = torch.Size([19231, 3])   ||   Y.shape = torch.Size([19231])\n"
     ]
    }
   ],
   "source": [
    "import random\n",
    "random.seed(1234)\n",
    "random.shuffle(words)\n",
    "\n",
    "Xtr, Ytr = build_dataset(words[:25000])\n",
    "Xte, Yte = build_dataset(words[25000:27500])\n",
    "Xdev, Ydev = build_dataset(words[27500:])"
   ]
  },
  {
   "cell_type": "code",
   "execution_count": 11,
   "id": "029bf796-1dd2-437c-a560-3edf22e146d4",
   "metadata": {},
   "outputs": [
    {
     "data": {
      "text/plain": [
       "(tensor([[ 0,  0,  0],\n",
       "         [ 0,  0,  5],\n",
       "         [ 0,  5, 19],\n",
       "         [ 0,  0,  0],\n",
       "         [ 0,  0, 13]]),\n",
       " tensor([ 5, 19,  0, 13,  1]))"
      ]
     },
     "execution_count": 11,
     "metadata": {},
     "output_type": "execute_result"
    }
   ],
   "source": [
    "Xtr[:5], Ytr[:5]"
   ]
  },
  {
   "cell_type": "code",
   "execution_count": 12,
   "id": "ce890a4d-c971-4710-a069-48a855af7788",
   "metadata": {},
   "outputs": [],
   "source": [
    "## Hard code the values of the hyperparameters\n",
    "\n",
    "EMBEDDING_DIM = 10\n",
    "NUM_NEURON = 100"
   ]
  },
  {
   "cell_type": "code",
   "execution_count": 13,
   "id": "d506e70e-05ac-4189-bbf5-160bfe88a00c",
   "metadata": {},
   "outputs": [],
   "source": [
    "## Define the default set of parameters and required initilization\n",
    "\n",
    "g = torch.Generator().manual_seed(1234)\n",
    "\n",
    "C = torch.rand((27, EMBEDDING_DIM), generator=g, requires_grad=True)  ## Embeddings\n",
    "\n",
    "# Params for the 1st layer\n",
    "W1 = torch.rand((EMBEDDING_DIM * BLOCK_SIZE, NUM_NEURON), generator=g, requires_grad=True)\n",
    "b1 = torch.rand((NUM_NEURON, ), generator=g, requires_grad=True)\n",
    "\n",
    "# params for the 2nd layer\n",
    "W2 = torch.rand((NUM_NEURON, 27), generator=g, requires_grad=True)\n",
    "b2 = torch.rand((27, ), generator=g, requires_grad=True)\n",
    "\n",
    "params = [C, W1, b1, W2, b2]"
   ]
  },
  {
   "cell_type": "code",
   "execution_count": 14,
   "id": "4bf08c66-beb8-40ca-90b5-ce87b8da7bdf",
   "metadata": {},
   "outputs": [
    {
     "name": "stdout",
     "output_type": "stream",
     "text": [
      "C.shape: torch.Size([27, 10])\n",
      "W1.shape: torch.Size([30, 100])\n",
      "b1.shape: torch.Size([100])\n",
      "W2.shape: torch.Size([100, 27])\n",
      "b2.shape: torch.Size([27])\n"
     ]
    }
   ],
   "source": [
    "print(f\"C.shape: {C.shape}\")\n",
    "print(f\"W1.shape: {W1.shape}\")\n",
    "print(f\"b1.shape: {b1.shape}\")\n",
    "print(f\"W2.shape: {W2.shape}\")\n",
    "print(f\"b2.shape: {b2.shape}\")"
   ]
  },
  {
   "cell_type": "code",
   "execution_count": 15,
   "id": "7f131040-649a-4a38-a0cb-16b8027e00f0",
   "metadata": {},
   "outputs": [],
   "source": [
    "# Hard Code the constants:\n",
    "\n",
    "ITER = 200000\n",
    "BATCH_SIZE = 32"
   ]
  },
  {
   "cell_type": "code",
   "execution_count": 56,
   "id": "2c280ba2-416f-4b3e-9cb2-66d4917ecd02",
   "metadata": {},
   "outputs": [
    {
     "name": "stdout",
     "output_type": "stream",
     "text": [
      "LR = 0.1\n",
      "Iter = 0 Loss = 2.0724616050720215\n"
     ]
    }
   ],
   "source": [
    "## Create the model\n",
    "lr = 1.0\n",
    "lowest_loss_param = []\n",
    "lowest_loss = torch.inf\n",
    "\n",
    "for i in range(10000):\n",
    "    # Forward pass\n",
    "    ix = torch.randint(0, Xtr.shape[0], (BATCH_SIZE, ), generator=g)\n",
    "    emb = C[Xtr[ix]]               # Embedding\n",
    "    h = torch.tanh(emb.view(-1, EMBEDDING_DIM * BLOCK_SIZE) @ W1 + b1)     # First layer\n",
    "    logits = h @ W2 + b2\n",
    "    loss = F.cross_entropy(logits, Ytr[ix])\n",
    "\n",
    "    # Backward Pass\n",
    "    for p in params:\n",
    "        p.grad = None\n",
    "    loss.backward()\n",
    "\n",
    "    # Update\n",
    "    if i % (ITER // 3) == 0:\n",
    "        lr /= 10\n",
    "        print(f\"LR = {lr}\")\n",
    "    for p in params:\n",
    "        p.data += -lr * p.grad\n",
    "\n",
    "    if loss < lowest_loss:\n",
    "        lowest_loss = loss\n",
    "        lowest_loss_param = [torch.clone(C), torch.clone(W1), torch.clone(b1), torch.clone(W2), torch.clone(b2)]\n",
    "\n",
    "    # Print loss every 10 steps\n",
    "    if i % (ITER / 10) == 0:\n",
    "        print(f\"Iter = {i} Loss = {loss.item()}\")"
   ]
  },
  {
   "cell_type": "code",
   "execution_count": 57,
   "id": "3d812162-d316-41f0-b265-b9e42c3417e0",
   "metadata": {},
   "outputs": [
    {
     "data": {
      "text/plain": [
       "1.8973615169525146"
      ]
     },
     "execution_count": 57,
     "metadata": {},
     "output_type": "execute_result"
    }
   ],
   "source": [
    "loss.data.item()"
   ]
  },
  {
   "cell_type": "code",
   "execution_count": 58,
   "id": "cb328f03-0f31-4ccd-86b0-6bcc2e915204",
   "metadata": {},
   "outputs": [
    {
     "data": {
      "text/plain": [
       "1.418953537940979"
      ]
     },
     "execution_count": 58,
     "metadata": {},
     "output_type": "execute_result"
    }
   ],
   "source": [
    "lowest_loss.item()"
   ]
  },
  {
   "cell_type": "code",
   "execution_count": 59,
   "id": "1664ff64-06ea-4ed8-92c2-8fe4adf1ae2f",
   "metadata": {},
   "outputs": [
    {
     "data": {
      "text/plain": [
       "5"
      ]
     },
     "execution_count": 59,
     "metadata": {},
     "output_type": "execute_result"
    }
   ],
   "source": [
    "len(lowest_loss_param)"
   ]
  },
  {
   "cell_type": "code",
   "execution_count": 64,
   "id": "7800a985-3d37-42ce-b818-299f35b38386",
   "metadata": {},
   "outputs": [
    {
     "name": "stdout",
     "output_type": "stream",
     "text": [
      "s.\n",
      "chand.\n",
      "dationie.\n",
      "sverated.\n",
      "catorin.\n",
      "treure.\n",
      "pose.\n",
      "gch.\n",
      "bouthocstrew.\n",
      "refaol.\n",
      "inter.\n",
      "unche.\n",
      "armeniogotionfuropones.\n",
      "precauten.\n",
      "lowels.\n",
      "stlateegeg.\n",
      "setianestli.\n",
      "extare.\n",
      "oratinas.\n",
      "burrentatious.\n"
     ]
    }
   ],
   "source": [
    "# sample from the model\n",
    "g = torch.Generator().manual_seed(1234)\n",
    "\n",
    "for _ in range(20):\n",
    "    \n",
    "    out = []\n",
    "    context = [0] * BLOCK_SIZE # initialize with all ...\n",
    "    while True:\n",
    "      emb = C[torch.tensor([context])] # (1,block_size,d)\n",
    "      h = torch.tanh(emb.view(1, -1) @ W1 + b1)\n",
    "      logits = h @ W2 + b2\n",
    "      probs = F.softmax(logits, dim=1)\n",
    "      ix = torch.multinomial(probs, num_samples=1, generator=g).item()\n",
    "      context = context[1:] + [ix]\n",
    "      out.append(ix)\n",
    "      if ix == 0:\n",
    "        break\n",
    "    \n",
    "    print(''.join(itos[i] for i in out))"
   ]
  },
  {
   "cell_type": "code",
   "execution_count": 60,
   "id": "cd59d6a8-4107-45bd-aada-9be73167c6f9",
   "metadata": {},
   "outputs": [
    {
     "data": {
      "text/plain": [
       "tensor(2.3203, grad_fn=<NllLossBackward0>)"
      ]
     },
     "execution_count": 60,
     "metadata": {},
     "output_type": "execute_result"
    }
   ],
   "source": [
    "# ix = torch.randint(0, Xtr.shape[0], (BATCH_SIZE, ), generator=g)\n",
    "emb = C[Xdev]               # Embedding\n",
    "h = torch.tanh(emb.view(-1, EMBEDDING_DIM * BLOCK_SIZE) @ W1 + b1)     # First layer\n",
    "logits = h @ W2 + b2\n",
    "loss = F.cross_entropy(logits, Ydev)\n",
    "loss"
   ]
  },
  {
   "cell_type": "code",
   "execution_count": 61,
   "id": "31efcc90-d203-4f73-ba48-0f5d3c8c10a7",
   "metadata": {},
   "outputs": [
    {
     "data": {
      "text/plain": [
       "tensor(2.3085, grad_fn=<NllLossBackward0>)"
      ]
     },
     "execution_count": 61,
     "metadata": {},
     "output_type": "execute_result"
    }
   ],
   "source": [
    "# ix = torch.randint(0, Xtr.shape[0], (BATCH_SIZE, ), generator=g)\n",
    "emb = lowest_loss_param[0][Xdev]               # Embedding\n",
    "h = torch.tanh(emb.view(-1, EMBEDDING_DIM * BLOCK_SIZE) @ lowest_loss_param[1] + lowest_loss_param[2])     # First layer\n",
    "logits = h @ lowest_loss_param[3] + lowest_loss_param[4]\n",
    "loss = F.cross_entropy(logits, Ydev)\n",
    "loss"
   ]
  },
  {
   "cell_type": "code",
   "execution_count": 53,
   "id": "9edd3c7d-4cbf-46ff-aed6-5bdb786b7ee9",
   "metadata": {},
   "outputs": [
    {
     "data": {
      "text/plain": [
       "tensor(2.2472, grad_fn=<NllLossBackward0>)"
      ]
     },
     "execution_count": 53,
     "metadata": {},
     "output_type": "execute_result"
    }
   ],
   "source": [
    "emb = C[Xtr]               # Embedding\n",
    "h = torch.tanh(emb.view(-1, EMBEDDING_DIM * BLOCK_SIZE) @ W1 + b1)     # First layer\n",
    "logits = h @ W2 + b2\n",
    "loss = F.cross_entropy(logits, Ytr)\n",
    "loss"
   ]
  },
  {
   "cell_type": "markdown",
   "id": "3eab1825-e865-4c11-ad2d-80e34448e5b7",
   "metadata": {},
   "source": [
    "## Next Part"
   ]
  },
  {
   "cell_type": "code",
   "execution_count": 62,
   "id": "f1c19132-1cf4-452f-8a7e-2ca8f1a03494",
   "metadata": {},
   "outputs": [],
   "source": [
    "## constants\n",
    "\n",
    "VOCAB_SIZE = 27\n",
    "BLOCK_SIZE = 3\n",
    "EMBEDDING_DIM = 10\n",
    "NEURON_CNT = 200"
   ]
  },
  {
   "cell_type": "code",
   "execution_count": 73,
   "id": "ee509a1e-f78d-4eff-82e1-2c23333cf063",
   "metadata": {},
   "outputs": [
    {
     "name": "stdout",
     "output_type": "stream",
     "text": [
      "12097\n"
     ]
    }
   ],
   "source": [
    "# MLP revisited\n",
    "n_embd = 10 # the dimensionality of the character embedding vectors\n",
    "n_hidden = 200 # the number of neurons in the hidden layer of the MLP\n",
    "vocab_size = 27\n",
    "block_size = 3\n",
    "\n",
    "g = torch.Generator().manual_seed(2147483647) # for reproducibility\n",
    "C  = torch.randn((vocab_size, n_embd),            generator=g)\n",
    "W1 = torch.randn((n_embd * block_size, n_hidden), generator=g) * (5/3)/((n_embd * block_size)**0.5) #* 0.2\n",
    "#b1 = torch.randn(n_hidden,                        generator=g) * 0.01\n",
    "W2 = torch.randn((n_hidden, vocab_size),          generator=g) * 0.01\n",
    "b2 = torch.randn(vocab_size,                      generator=g) * 0\n",
    "\n",
    "# BatchNorm parameters\n",
    "bngain = torch.ones((1, n_hidden))\n",
    "bnbias = torch.zeros((1, n_hidden))\n",
    "bnmean_running = torch.zeros((1, n_hidden))\n",
    "bnstd_running = torch.ones((1, n_hidden))\n",
    "\n",
    "parameters = [C, W1, W2, b2, bngain, bnbias]\n",
    "print(sum(p.nelement() for p in parameters)) # number of parameters in total\n",
    "for p in parameters:\n",
    "  p.requires_grad = True"
   ]
  },
  {
   "cell_type": "code",
   "execution_count": 90,
   "id": "a6e50260-e6ec-4dea-9688-db508c5f6895",
   "metadata": {},
   "outputs": [
    {
     "name": "stdout",
     "output_type": "stream",
     "text": [
      "      0/  50000: 2.4040\n",
      "  10000/  50000: 2.4643\n",
      "  20000/  50000: 2.2434\n",
      "  30000/  50000: 2.1985\n",
      "  40000/  50000: 2.0046\n"
     ]
    }
   ],
   "source": [
    "# same optimization as last time\n",
    "max_steps = 50000\n",
    "batch_size = 32\n",
    "lossi = []\n",
    "tanhi = []\n",
    "\n",
    "for i in range(max_steps):\n",
    "  \n",
    "  # minibatch construct\n",
    "  ix = torch.randint(0, Xtr.shape[0], (batch_size,), generator=g)\n",
    "  Xb, Yb = Xtr[ix], Ytr[ix] # batch X,Y\n",
    "  \n",
    "  # forward pass\n",
    "  emb = C[Xb] # embed the characters into vectors\n",
    "  embcat = emb.view(emb.shape[0], -1) # concatenate the vectors\n",
    "  # Linear layer\n",
    "  hpreact = embcat @ W1 #+ b1 # hidden layer pre-activation\n",
    "  # BatchNorm layer\n",
    "  # -------------------------------------------------------------\n",
    "  bnmeani = hpreact.mean(0, keepdim=True)\n",
    "  bnstdi = hpreact.std(0, keepdim=True)\n",
    "  hpreact = bngain * (hpreact - bnmeani) / bnstdi + bnbias\n",
    "  with torch.no_grad():\n",
    "    bnmean_running = 0.999 * bnmean_running + 0.001 * bnmeani\n",
    "    bnstd_running = 0.999 * bnstd_running + 0.001 * bnstdi\n",
    "  # -------------------------------------------------------------\n",
    "  # Non-linearity\n",
    "  h = torch.tanh(hpreact) # hidden layer\n",
    "  tanhi.append(h)\n",
    "  logits = h @ W2 + b2 # output layer\n",
    "  loss = F.cross_entropy(logits, Yb) # loss function\n",
    "  \n",
    "  # backward pass\n",
    "  for p in parameters:\n",
    "    p.grad = None\n",
    "  loss.backward()\n",
    "  \n",
    "  # update\n",
    "  lr = 0.1 if i < 100000 else 0.01 # step learning rate decay\n",
    "  for p in parameters:\n",
    "    p.data += -lr * p.grad\n",
    "\n",
    "  # track stats\n",
    "  if i % 10000 == 0: # print every once in a while\n",
    "    print(f'{i:7d}/{max_steps:7d}: {loss.item():.4f}')\n",
    "  lossi.append(loss.log10().item())\n",
    "  "
   ]
  },
  {
   "cell_type": "code",
   "execution_count": 94,
   "id": "aa6dc21a-5610-495f-82db-54689da45f94",
   "metadata": {},
   "outputs": [
    {
     "data": {
      "text/plain": [
       "50000"
      ]
     },
     "execution_count": 94,
     "metadata": {},
     "output_type": "execute_result"
    }
   ],
   "source": [
    "len(tanhi)"
   ]
  },
  {
   "cell_type": "code",
   "execution_count": 64,
   "id": "9e15b8a0-459c-4fbd-a1eb-e0313e278281",
   "metadata": {},
   "outputs": [],
   "source": [
    "# MAX_STEPS = 200000\n",
    "# BATCH_SIZE = 32\n",
    "\n",
    "# lossi = []"
   ]
  },
  {
   "cell_type": "code",
   "execution_count": 69,
   "id": "b57e855c-1de4-444f-84dc-4349d75262d9",
   "metadata": {},
   "outputs": [
    {
     "name": "stdout",
     "output_type": "stream",
     "text": [
      "Iter: 0   ||   Loss: 2.7262\n",
      "Iter: 20000   ||   Loss: 2.1691\n",
      "Iter: 40000   ||   Loss: 2.6445\n",
      "Iter: 60000   ||   Loss: 3.0043\n",
      "Iter: 80000   ||   Loss: 2.2995\n",
      "Iter: 100000   ||   Loss: 2.7251\n",
      "Iter: 120000   ||   Loss: 2.2826\n",
      "Iter: 140000   ||   Loss: 2.5509\n",
      "Iter: 160000   ||   Loss: 1.8672\n",
      "Iter: 180000   ||   Loss: 2.4053\n"
     ]
    }
   ],
   "source": [
    "# for i in range(MAX_STEPS):\n",
    "#     # Create random batches\n",
    "#     ix = torch.randint(0, Xtr.shape[0], (BATCH_SIZE, ), generator=g)\n",
    "    \n",
    "#     # forward pass\n",
    "#     emb = C[Xtr[ix]]\n",
    "#     hpreact = emb.view(BATCH_SIZE, -1) @ W1\n",
    "\n",
    "#     bnmeani = hpreact.mean(0, keepdim=True)\n",
    "#     bnstdi = hpreact.std(0, keepdim=True)\n",
    "#     hpreact = bngain * (hpreact - bnmeani) / bnstdi + bnbias\n",
    "#     with torch.no_grad():\n",
    "#         ## This is made for keeping the final mean and std for the inference purpose\n",
    "#         bnmean_running = bnmean_running * 0.999 + bnmeani * 0.001\n",
    "#         bnstd_running = bnstd_running * 0.999 + bnstdi * 0.001\n",
    "\n",
    "#     h = torch.tanh(hpreact)\n",
    "#     logits = h @ W2 + b2\n",
    "#     loss = F.cross_entropy(logits, Ytr[ix])\n",
    "\n",
    "#     # Backward pass\n",
    "#     for p in params:\n",
    "#         p.grad = None\n",
    "#     loss.backward()\n",
    "\n",
    "#     # Update\n",
    "#     lr = 0.1 if i < 100000 else 0.01\n",
    "#     for p in params:\n",
    "#         p.data += -lr * p.grad\n",
    "\n",
    "#     lossi.append(loss.log10().item())\n",
    "\n",
    "#     if i % (ITER / 10) == 0:\n",
    "#         print(f\"Iter: {i}   ||   Loss: {loss.item():.4f}\")"
   ]
  },
  {
   "cell_type": "code",
   "execution_count": 75,
   "id": "90e02d86-e559-40e3-8b0a-82ffd1165a21",
   "metadata": {},
   "outputs": [
    {
     "data": {
      "text/plain": [
       "[<matplotlib.lines.Line2D at 0x232a4f63910>]"
      ]
     },
     "execution_count": 75,
     "metadata": {},
     "output_type": "execute_result"
    },
    {
     "data": {
      "image/png": "[encoded data removed]",
      "text/plain": [
       "<Figure size 640x480 with 1 Axes>"
      ]
     },
     "metadata": {},
     "output_type": "display_data"
    }
   ],
   "source": [
    "plt.plot(lossi)"
   ]
  },
  {
   "cell_type": "code",
   "execution_count": 78,
   "id": "d02a1c81-ed91-4a88-8258-a9707b87efe6",
   "metadata": {},
   "outputs": [
    {
     "name": "stdout",
     "output_type": "stream",
     "text": [
      "torch.Size([196639, 3, 10])\n",
      "torch.Size([196639, 200])\n",
      "torch.Size([1, 200])\n",
      "torch.Size([1, 200])\n"
     ]
    }
   ],
   "source": [
    "# Calibrate the batch norm at the end\n",
    "\n",
    "with torch.no_grad():\n",
    "    emb = C[Xtr]\n",
    "    print(emb.shape)\n",
    "    hpreact = emb.view(emb.shape[0], -1) @ W1\n",
    "    print(hpreact.shape)\n",
    "\n",
    "    bnmean = hpreact.mean(0, keepdim=True)\n",
    "    bnstd = hpreact.std(0, keepdim=True)\n",
    "    print(bnmean.shape)\n",
    "    print(bnstd.shape)"
   ]
  },
  {
   "cell_type": "code",
   "execution_count": 82,
   "id": "76ce7bf7-70fa-47d7-9b1f-b4a96982ef73",
   "metadata": {},
   "outputs": [
    {
     "name": "stdout",
     "output_type": "stream",
     "text": [
      "tensor(35.8808)\n",
      "tensor(481.6537)\n"
     ]
    }
   ],
   "source": [
    "print(torch.sum(bnmean))\n",
    "print(torch.sum(bnstd))"
   ]
  },
  {
   "cell_type": "code",
   "execution_count": 84,
   "id": "7367922f-3db5-4b2f-8155-809ad0277d14",
   "metadata": {},
   "outputs": [
    {
     "name": "stdout",
     "output_type": "stream",
     "text": [
      "tensor(36.2818)\n",
      "tensor(477.5368)\n"
     ]
    }
   ],
   "source": [
    "print(torch.sum(bnmean_running))\n",
    "print(torch.sum(bnstd_running))"
   ]
  },
  {
   "cell_type": "code",
   "execution_count": 87,
   "id": "4e4e1a25-f016-48c9-a9b7-3e0d11c727f0",
   "metadata": {},
   "outputs": [],
   "source": [
    "## Function to calculate Loss\n",
    "\n",
    "@torch.no_grad()\n",
    "def calcLoss(split):\n",
    "    ds = {\n",
    "        \"train\": (Xtr, Ytr),\n",
    "        \"test\": (Xte, Yte), \n",
    "        \"val\": (Xdev, Ydev)\n",
    "    }\n",
    "\n",
    "    X, Y = ds[split]\n",
    "\n",
    "    emb = C[X]\n",
    "    hpreact = emb.view(emb.shape[0], -1) @ W1\n",
    "    hpreact = bngain * (hpreact - bnmean_running) / bnstd_running - bnbias\n",
    "    h = torch.tanh(hpreact)\n",
    "\n",
    "    logits = h @ W2 + b2\n",
    "    loss = F.cross_entropy(logits, Y)\n",
    "\n",
    "    print(split, loss.item())"
   ]
  },
  {
   "cell_type": "code",
   "execution_count": 88,
   "id": "c35ea16c-cb8a-4035-a34c-e97b3e892b0a",
   "metadata": {},
   "outputs": [
    {
     "name": "stdout",
     "output_type": "stream",
     "text": [
      "train 2.5767860412597656\n"
     ]
    }
   ],
   "source": [
    "calcLoss('train')"
   ]
  },
  {
   "cell_type": "code",
   "execution_count": 89,
   "id": "32a4251a-3b95-44e5-b0a8-53d016388027",
   "metadata": {},
   "outputs": [
    {
     "name": "stdout",
     "output_type": "stream",
     "text": [
      "val 2.647549867630005\n"
     ]
    }
   ],
   "source": [
    "calcLoss('val')"
   ]
  },
  {
   "cell_type": "markdown",
   "id": "8ce09e52-0aa8-46fc-9fdd-41449cbbd6db",
   "metadata": {},
   "source": [
    "## Pytorchifying"
   ]
  },
  {
   "cell_type": "code",
   "execution_count": null,
   "id": "da90b2a6-b069-4577-9571-5c4bcad02b14",
   "metadata": {},
   "outputs": [],
   "source": []
  }
 ],
 "metadata": {
  "kernelspec": {
   "display_name": "Python 3 (ipykernel)",
   "language": "python",
   "name": "python3"
  },
  "language_info": {
   "codemirror_mode": {
    "name": "ipython",
    "version": 3
   },
   "file_extension": ".py",
   "mimetype": "text/x-python",
   "name": "python",
   "nbconvert_exporter": "python",
   "pygments_lexer": "ipython3",
   "version": "3.11.5"
  }
 },
 "nbformat": 4,
 "nbformat_minor": 5
}
