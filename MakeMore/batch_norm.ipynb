{
 "cells": [
  {
   "cell_type": "markdown",
   "id": "c5bb5c1d-fec6-42a3-b4c7-2ac237245a87",
   "metadata": {},
   "source": [
    "## Batch norm and Initilization and activations"
   ]
  },
  {
   "cell_type": "code",
   "execution_count": 1,
   "id": "35ce511a-f3a4-43ed-b9f0-aae053aca973",
   "metadata": {},
   "outputs": [],
   "source": [
    "import torch\n",
    "import torch.nn.functional as F\n",
    "import numpy as np\n",
    "import matplotlib.pyplot as plt\n",
    "%matplotlib inline"
   ]
  },
  {
   "cell_type": "code",
   "execution_count": 2,
   "id": "688e56fb-f42c-474e-aad3-ac42f69ee71a",
   "metadata": {},
   "outputs": [],
   "source": [
    "words = open('30k.txt', 'r').read().splitlines()"
   ]
  },
  {
   "cell_type": "code",
   "execution_count": 3,
   "id": "ea176a1e-3e75-4d47-8ca1-f5750b11df8b",
   "metadata": {},
   "outputs": [
    {
     "data": {
      "text/plain": [
       "['the\\t', 'of\\t', 'and\\t', 'to\\t', 'a\\t']"
      ]
     },
     "execution_count": 3,
     "metadata": {},
     "output_type": "execute_result"
    }
   ],
   "source": [
    "words[:5]"
   ]
  },
  {
   "cell_type": "code",
   "execution_count": 4,
   "id": "3e7144eb-96ec-4af0-b5c0-525b8ce25494",
   "metadata": {},
   "outputs": [],
   "source": [
    "words = [''.join(ch for ch in word if ch != \"\\t\") for word in words]"
   ]
  },
  {
   "cell_type": "code",
   "execution_count": 5,
   "id": "55f81421-6f45-4de5-8535-1606471b43c9",
   "metadata": {},
   "outputs": [
    {
     "data": {
      "text/plain": [
       "['the', 'of', 'and', 'to', 'a']"
      ]
     },
     "execution_count": 5,
     "metadata": {},
     "output_type": "execute_result"
    }
   ],
   "source": [
    "words[:5]"
   ]
  },
  {
   "cell_type": "code",
   "execution_count": 6,
   "id": "f7a8e6a5-cf69-4873-a387-fa9db8a7356d",
   "metadata": {},
   "outputs": [
    {
     "data": {
      "text/plain": [
       "30000"
      ]
     },
     "execution_count": 6,
     "metadata": {},
     "output_type": "execute_result"
    }
   ],
   "source": [
    "len(words)"
   ]
  },
  {
   "cell_type": "markdown",
   "id": "194023db-89cf-4638-a79a-3242b876c1b3",
   "metadata": {},
   "source": [
    "## Create the dataset"
   ]
  },
  {
   "cell_type": "code",
   "execution_count": 7,
   "id": "ca03e0ac-eb69-400f-a5b1-951eae905251",
   "metadata": {},
   "outputs": [],
   "source": [
    "# The defaults are \n",
    "BLOCK_SIZE = 3"
   ]
  },
  {
   "cell_type": "code",
   "execution_count": 9,
   "id": "6a21647f-928a-499b-aa86-f894bbb2a6d0",
   "metadata": {},
   "outputs": [],
   "source": [
    "# create the mappings \n",
    "\n",
    "chars = sorted(list(set(''.join(word for word in words))))\n",
    "stoi = {s: i+1 for i, s in enumerate(chars)}\n",
    "stoi['.'] = 0\n",
    "itos = {i: s for s, i in stoi.items()}"
   ]
  },
  {
   "cell_type": "code",
   "execution_count": 14,
   "id": "d04e27a0-a9c2-4bb6-bbb1-44de61a5f273",
   "metadata": {},
   "outputs": [],
   "source": [
    "def build_dataset(data):\n",
    "    X, Y = [], []\n",
    "\n",
    "    for word in data:\n",
    "        context = [0] * BLOCK_SIZE\n",
    "        for ch in word + '.':\n",
    "            X.append(context)\n",
    "            Y.append(stoi[ch])\n",
    "            context = context[1:] + [stoi[ch]]\n",
    "\n",
    "    X = torch.tensor(X)\n",
    "    Y = torch.tensor(Y)\n",
    "    print(f\"X.shape = {X.shape}   ||   Y.shape = {Y.shape}\")\n",
    "\n",
    "    return X, Y"
   ]
  },
  {
   "cell_type": "code",
   "execution_count": 15,
   "id": "8de108d5-b4c8-4d6e-95b7-ac8bd223d103",
   "metadata": {},
   "outputs": [
    {
     "name": "stdout",
     "output_type": "stream",
     "text": [
      "X.shape = torch.Size([195619, 3])   ||   Y.shape = torch.Size([195619])\n",
      "X.shape = torch.Size([20005, 3])   ||   Y.shape = torch.Size([20005])\n",
      "X.shape = torch.Size([19963, 3])   ||   Y.shape = torch.Size([19963])\n"
     ]
    }
   ],
   "source": [
    "Xtr, Ytr = build_dataset(words[:25000])\n",
    "Xte, Yte = build_dataset(words[25000:27500])\n",
    "Xdev, Ydev = build_dataset(words[27500:])"
   ]
  },
  {
   "cell_type": "code",
   "execution_count": 17,
   "id": "029bf796-1dd2-437c-a560-3edf22e146d4",
   "metadata": {},
   "outputs": [
    {
     "data": {
      "text/plain": [
       "(tensor([[ 0,  0,  0],\n",
       "         [ 0,  0, 20],\n",
       "         [ 0, 20,  8],\n",
       "         [20,  8,  5],\n",
       "         [ 0,  0,  0]]),\n",
       " tensor([20,  8,  5,  0, 15]))"
      ]
     },
     "execution_count": 17,
     "metadata": {},
     "output_type": "execute_result"
    }
   ],
   "source": [
    "Xtr[:5], Ytr[:5]"
   ]
  },
  {
   "cell_type": "code",
   "execution_count": 18,
   "id": "ce890a4d-c971-4710-a069-48a855af7788",
   "metadata": {},
   "outputs": [],
   "source": [
    "## Hard code the values of the hyperparameters\n",
    "\n",
    "EMBEDDING_DIM = 10\n",
    "NUM_NEURON = 100"
   ]
  },
  {
   "cell_type": "code",
   "execution_count": 26,
   "id": "d506e70e-05ac-4189-bbf5-160bfe88a00c",
   "metadata": {},
   "outputs": [],
   "source": [
    "## Define the default set of parameters and required initilization\n",
    "\n",
    "g = torch.Generator().manual_seed(1234)\n",
    "\n",
    "C = torch.rand((27, EMBEDDING_DIM), generator=g, requires_grad=True)  ## Embeddings\n",
    "\n",
    "# Params for the 1st layer\n",
    "W1 = torch.rand((EMBEDDING_DIM * BLOCK_SIZE, NUM_NEURON), generator=g, requires_grad=True)\n",
    "b1 = torch.rand((NUM_NEURON, ), generator=g, requires_grad=True)\n",
    "\n",
    "# params for the 2nd layer\n",
    "W2 = torch.rand((NUM_NEURON, 27), generator=g, requires_grad=True)\n",
    "b2 = torch.rand((27, ), generator=g, requires_grad=True)\n",
    "\n",
    "params = [C, W1, b1, W2, b2]"
   ]
  },
  {
   "cell_type": "code",
   "execution_count": 27,
   "id": "4bf08c66-beb8-40ca-90b5-ce87b8da7bdf",
   "metadata": {},
   "outputs": [
    {
     "name": "stdout",
     "output_type": "stream",
     "text": [
      "C.shape: torch.Size([27, 10])\n",
      "W1.shape: torch.Size([30, 100])\n",
      "b1.shape: torch.Size([100])\n",
      "W2.shape: torch.Size([100, 27])\n",
      "b2.shape: torch.Size([27])\n"
     ]
    }
   ],
   "source": [
    "print(f\"C.shape: {C.shape}\")\n",
    "print(f\"W1.shape: {W1.shape}\")\n",
    "print(f\"b1.shape: {b1.shape}\")\n",
    "print(f\"W2.shape: {W2.shape}\")\n",
    "print(f\"b2.shape: {b2.shape}\")"
   ]
  },
  {
   "cell_type": "code",
   "execution_count": 25,
   "id": "7f131040-649a-4a38-a0cb-16b8027e00f0",
   "metadata": {},
   "outputs": [],
   "source": [
    "# Hard Code the constants:\n",
    "\n",
    "ITER = 200000\n",
    "BATCH_SIZE = 32"
   ]
  },
  {
   "cell_type": "code",
   "execution_count": 62,
   "id": "2c280ba2-416f-4b3e-9cb2-66d4917ecd02",
   "metadata": {},
   "outputs": [
    {
     "name": "stdout",
     "output_type": "stream",
     "text": [
      "LR = 0.1\n",
      "Iter = 0 Loss = 2.516104221343994\n",
      "Iter = 20000 Loss = 2.663620948791504\n",
      "Iter = 40000 Loss = 2.430905818939209\n",
      "Iter = 60000 Loss = 2.230560541152954\n",
      "LR = 0.01\n",
      "Iter = 80000 Loss = 2.132500410079956\n",
      "Iter = 100000 Loss = 2.0449297428131104\n",
      "Iter = 120000 Loss = 2.271138906478882\n",
      "LR = 0.001\n",
      "Iter = 140000 Loss = 2.362372636795044\n",
      "Iter = 160000 Loss = 2.7325353622436523\n",
      "Iter = 180000 Loss = 2.0289199352264404\n",
      "LR = 0.0001\n"
     ]
    }
   ],
   "source": [
    "## Create the model\n",
    "lr = 1.0\n",
    "\n",
    "for i in range(ITER):\n",
    "    # Forward pass\n",
    "    ix = torch.randint(0, Xtr.shape[0], (BATCH_SIZE, ), generator=g)\n",
    "    emb = C[Xtr[ix]]               # Embedding\n",
    "    h = torch.tanh(emb.view(-1, EMBEDDING_DIM * BLOCK_SIZE) @ W1 + b1)     # First layer\n",
    "    logits = h @ W2 + b2\n",
    "    loss = F.cross_entropy(logits, Ytr[ix])\n",
    "\n",
    "    # Backward Pass\n",
    "    for p in params:\n",
    "        p.grad = None\n",
    "    loss.backward()\n",
    "\n",
    "    # Update\n",
    "    if i % (ITER // 3) == 0:\n",
    "        lr /= 10\n",
    "        print(f\"LR = {lr}\")\n",
    "    for p in params:\n",
    "        p.data += -lr * p.grad\n",
    "\n",
    "    # Print loss every 10 steps\n",
    "    if i % (ITER / 10) == 0:\n",
    "        print(f\"Iter = {i} Loss = {loss.item()}\")"
   ]
  },
  {
   "cell_type": "code",
   "execution_count": 63,
   "id": "3d812162-d316-41f0-b265-b9e42c3417e0",
   "metadata": {},
   "outputs": [
    {
     "data": {
      "text/plain": [
       "2.204268217086792"
      ]
     },
     "execution_count": 63,
     "metadata": {},
     "output_type": "execute_result"
    }
   ],
   "source": [
    "loss.data.item()"
   ]
  },
  {
   "cell_type": "code",
   "execution_count": 64,
   "id": "7800a985-3d37-42ce-b818-299f35b38386",
   "metadata": {},
   "outputs": [
    {
     "name": "stdout",
     "output_type": "stream",
     "text": [
      "s.\n",
      "chand.\n",
      "dationie.\n",
      "sverated.\n",
      "catorin.\n",
      "treure.\n",
      "pose.\n",
      "gch.\n",
      "bouthocstrew.\n",
      "refaol.\n",
      "inter.\n",
      "unche.\n",
      "armeniogotionfuropones.\n",
      "precauten.\n",
      "lowels.\n",
      "stlateegeg.\n",
      "setianestli.\n",
      "extare.\n",
      "oratinas.\n",
      "burrentatious.\n"
     ]
    }
   ],
   "source": [
    "# sample from the model\n",
    "g = torch.Generator().manual_seed(1234)\n",
    "\n",
    "for _ in range(20):\n",
    "    \n",
    "    out = []\n",
    "    context = [0] * BLOCK_SIZE # initialize with all ...\n",
    "    while True:\n",
    "      emb = C[torch.tensor([context])] # (1,block_size,d)\n",
    "      h = torch.tanh(emb.view(1, -1) @ W1 + b1)\n",
    "      logits = h @ W2 + b2\n",
    "      probs = F.softmax(logits, dim=1)\n",
    "      ix = torch.multinomial(probs, num_samples=1, generator=g).item()\n",
    "      context = context[1:] + [ix]\n",
    "      out.append(ix)\n",
    "      if ix == 0:\n",
    "        break\n",
    "    \n",
    "    print(''.join(itos[i] for i in out))"
   ]
  },
  {
   "cell_type": "code",
   "execution_count": 65,
   "id": "cd59d6a8-4107-45bd-aada-9be73167c6f9",
   "metadata": {},
   "outputs": [
    {
     "data": {
      "text/plain": [
       "tensor(2.4717, grad_fn=<NllLossBackward0>)"
      ]
     },
     "execution_count": 65,
     "metadata": {},
     "output_type": "execute_result"
    }
   ],
   "source": [
    "# ix = torch.randint(0, Xtr.shape[0], (BATCH_SIZE, ), generator=g)\n",
    "emb = C[Xdev]               # Embedding\n",
    "h = torch.tanh(emb.view(-1, EMBEDDING_DIM * BLOCK_SIZE) @ W1 + b1)     # First layer\n",
    "logits = h @ W2 + b2\n",
    "loss = F.cross_entropy(logits, Ydev)\n",
    "loss"
   ]
  },
  {
   "cell_type": "code",
   "execution_count": 66,
   "id": "9edd3c7d-4cbf-46ff-aed6-5bdb786b7ee9",
   "metadata": {},
   "outputs": [
    {
     "data": {
      "text/plain": [
       "tensor(2.3218, grad_fn=<NllLossBackward0>)"
      ]
     },
     "execution_count": 66,
     "metadata": {},
     "output_type": "execute_result"
    }
   ],
   "source": [
    "emb = C[Xtr]               # Embedding\n",
    "h = torch.tanh(emb.view(-1, EMBEDDING_DIM * BLOCK_SIZE) @ W1 + b1)     # First layer\n",
    "logits = h @ W2 + b2\n",
    "loss = F.cross_entropy(logits, Ytr)\n",
    "loss"
   ]
  },
  {
   "cell_type": "code",
   "execution_count": null,
   "id": "c0132f93-70e2-4102-ba27-08fd1d8bc7a2",
   "metadata": {},
   "outputs": [],
   "source": []
  }
 ],
 "metadata": {
  "kernelspec": {
   "display_name": "Python 3 (ipykernel)",
   "language": "python",
   "name": "python3"
  },
  "language_info": {
   "codemirror_mode": {
    "name": "ipython",
    "version": 3
   },
   "file_extension": ".py",
   "mimetype": "text/x-python",
   "name": "python",
   "nbconvert_exporter": "python",
   "pygments_lexer": "ipython3",
   "version": "3.11.5"
  }
 },
 "nbformat": 4,
 "nbformat_minor": 5
}
