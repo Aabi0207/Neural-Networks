{
 "cells": [
  {
   "cell_type": "markdown",
   "id": "a46794ea-8656-4193-8333-3d46b4d1d57c",
   "metadata": {},
   "source": [
    "# Multi Layer Perceptron"
   ]
  },
  {
   "cell_type": "code",
   "execution_count": 36,
   "id": "0c596cb7-dbb9-4b0b-8570-2224f5fbd2e4",
   "metadata": {},
   "outputs": [],
   "source": [
    "import torch\n",
    "import torch.nn.functional as F\n",
    "import matplotlib.pyplot as plt\n",
    "%matplotlib inline\n",
    "\n",
    "BLOCK_SIZE = 3"
   ]
  },
  {
   "cell_type": "code",
   "execution_count": 2,
   "id": "f48e7f46-8f4d-44c7-8009-dad71e8753cb",
   "metadata": {},
   "outputs": [],
   "source": [
    "# Load all the words\n",
    "words = open('30k.txt', 'r').read().splitlines()"
   ]
  },
  {
   "cell_type": "code",
   "execution_count": 3,
   "id": "5e9481ca-f71f-4d36-8eca-27f67c8d47b7",
   "metadata": {},
   "outputs": [
    {
     "data": {
      "text/plain": [
       "30000"
      ]
     },
     "execution_count": 3,
     "metadata": {},
     "output_type": "execute_result"
    }
   ],
   "source": [
    "len(words)"
   ]
  },
  {
   "cell_type": "code",
   "execution_count": 4,
   "id": "53db2ff3-ff56-46fb-953b-c32bf1c84dba",
   "metadata": {},
   "outputs": [
    {
     "data": {
      "text/plain": [
       "['the\\t', 'of\\t', 'and\\t', 'to\\t', 'a\\t']"
      ]
     },
     "execution_count": 4,
     "metadata": {},
     "output_type": "execute_result"
    }
   ],
   "source": [
    "words[:5]"
   ]
  },
  {
   "cell_type": "code",
   "execution_count": 5,
   "id": "e3f8ec81-487f-4c14-b233-4daf7e4cfe8f",
   "metadata": {},
   "outputs": [],
   "source": [
    "allWords = []\n",
    "for word in words:\n",
    "    newWord = \"\"\n",
    "    for ch in list(word):\n",
    "        if ch == \"\\t\":\n",
    "            break\n",
    "        newWord += ch\n",
    "    allWords.append(newWord)"
   ]
  },
  {
   "cell_type": "code",
   "execution_count": 6,
   "id": "ca650538-4cba-4600-a983-108ded9d21b1",
   "metadata": {},
   "outputs": [
    {
     "data": {
      "text/plain": [
       "['the', 'of', 'and', 'to', 'a']"
      ]
     },
     "execution_count": 6,
     "metadata": {},
     "output_type": "execute_result"
    }
   ],
   "source": [
    "allWords[:5]"
   ]
  },
  {
   "cell_type": "code",
   "execution_count": 7,
   "id": "d6825fa7-db22-4430-b3b4-f49592031a96",
   "metadata": {},
   "outputs": [
    {
     "data": {
      "text/plain": [
       "30000"
      ]
     },
     "execution_count": 7,
     "metadata": {},
     "output_type": "execute_result"
    }
   ],
   "source": [
    "len(allWords)"
   ]
  },
  {
   "cell_type": "code",
   "execution_count": 8,
   "id": "8618f052-447f-48d9-8a1e-a91fd10f6343",
   "metadata": {},
   "outputs": [],
   "source": [
    "chars = sorted(list(set(''.join(allWords))))"
   ]
  },
  {
   "cell_type": "code",
   "execution_count": 9,
   "id": "d666eac7-c325-4ff8-9ea0-1de87a371454",
   "metadata": {},
   "outputs": [
    {
     "data": {
      "text/plain": [
       "26"
      ]
     },
     "execution_count": 9,
     "metadata": {},
     "output_type": "execute_result"
    }
   ],
   "source": [
    "len(chars)"
   ]
  },
  {
   "cell_type": "code",
   "execution_count": 10,
   "id": "1149f9e8-f890-49b6-aea5-44561f92d27e",
   "metadata": {},
   "outputs": [],
   "source": [
    "stoi = {s:i+1 for i,s in enumerate(chars)}\n",
    "stoi['.'] = 0\n",
    "itos = {i:s for s, i in stoi.items()}"
   ]
  },
  {
   "cell_type": "code",
   "execution_count": 11,
   "id": "a42532d7-2601-4617-af29-70d8e906057f",
   "metadata": {},
   "outputs": [
    {
     "data": {
      "text/plain": [
       "{'a': 1,\n",
       " 'b': 2,\n",
       " 'c': 3,\n",
       " 'd': 4,\n",
       " 'e': 5,\n",
       " 'f': 6,\n",
       " 'g': 7,\n",
       " 'h': 8,\n",
       " 'i': 9,\n",
       " 'j': 10,\n",
       " 'k': 11,\n",
       " 'l': 12,\n",
       " 'm': 13,\n",
       " 'n': 14,\n",
       " 'o': 15,\n",
       " 'p': 16,\n",
       " 'q': 17,\n",
       " 'r': 18,\n",
       " 's': 19,\n",
       " 't': 20,\n",
       " 'u': 21,\n",
       " 'v': 22,\n",
       " 'w': 23,\n",
       " 'x': 24,\n",
       " 'y': 25,\n",
       " 'z': 26,\n",
       " '.': 0}"
      ]
     },
     "execution_count": 11,
     "metadata": {},
     "output_type": "execute_result"
    }
   ],
   "source": [
    "stoi"
   ]
  },
  {
   "cell_type": "code",
   "execution_count": 26,
   "id": "4b29e7d9-435a-4f99-a298-5ba038c4108b",
   "metadata": {},
   "outputs": [
    {
     "name": "stdout",
     "output_type": "stream",
     "text": [
      "... -> t\n",
      "..t -> h\n",
      ".th -> e\n",
      "the -> .\n",
      "======================\n",
      "... -> o\n",
      "..o -> f\n",
      ".of -> .\n",
      "======================\n",
      "... -> a\n",
      "..a -> n\n",
      ".an -> d\n",
      "and -> .\n",
      "======================\n",
      "... -> t\n",
      "..t -> o\n",
      ".to -> .\n",
      "======================\n",
      "... -> a\n",
      "..a -> .\n",
      "======================\n"
     ]
    }
   ],
   "source": [
    "block_size = 3\n",
    "for word in allWords[:5]:\n",
    "    context = [0] * block_size\n",
    "    for ch in list(word) + ['.']:\n",
    "        ix = stoi[ch]\n",
    "        print(f\"{''.join(itos[num] for num in context)} -> {ch}\")\n",
    "        context = context[1:] + [stoi[ch]]\n",
    "    print(\"======================\")"
   ]
  },
  {
   "cell_type": "code",
   "execution_count": 40,
   "id": "814c7155-d953-4288-9f4b-f24cb45fb0b0",
   "metadata": {},
   "outputs": [],
   "source": [
    "# Build the dataset\n",
    "def build_dataset(data):\n",
    "    X, Y = [], []\n",
    "    \n",
    "    for word in data:\n",
    "        context = [0] * BLOCK_SIZE\n",
    "        for ch in list(word) + ['.']:\n",
    "            ix = stoi[ch]\n",
    "            X.append(context)\n",
    "            Y.append(ix)\n",
    "    \n",
    "            context = context[1:] + [ix]\n",
    "    \n",
    "    X = torch.tensor(X, dtype=torch.float32)\n",
    "    Y = torch.tensor(Y, dtype=torch.float32) \n",
    "\n",
    "    print(f\"X: {X.shape}   Y: {Y.shape}\")\n",
    "    return X, Y\n"
   ]
  },
  {
   "cell_type": "code",
   "execution_count": 85,
   "id": "64428894-9457-4684-9ab7-a555f5ab7d9f",
   "metadata": {},
   "outputs": [
    {
     "name": "stdout",
     "output_type": "stream",
     "text": [
      "X: torch.Size([196389, 3])   Y: torch.Size([196389])\n",
      "X: torch.Size([19610, 3])   Y: torch.Size([19610])\n",
      "X: torch.Size([19588, 3])   Y: torch.Size([19588])\n"
     ]
    }
   ],
   "source": [
    "# Randomly shuffle the dataset and divide the data into training, testing and validataion set\n",
    "\n",
    "import random\n",
    "random.seed(1234)\n",
    "random.shuffle(allWords)\n",
    "\n",
    "Xtr, Ytr = build_dataset(allWords[:25000])\n",
    "Xte, Yte = build_dataset(allWords[25000:27500])\n",
    "XDev, YDev = build_dataset(allWords[27500:])"
   ]
  },
  {
   "cell_type": "code",
   "execution_count": 42,
   "id": "708e146c-26a7-4902-ad2e-25563f17b214",
   "metadata": {},
   "outputs": [
    {
     "data": {
      "text/plain": [
       "(tensor([[ 0.,  0.,  0.],\n",
       "         [ 0.,  0., 23.],\n",
       "         [ 0., 23., 15.],\n",
       "         [23., 15., 15.],\n",
       "         [15., 15.,  4.]]),\n",
       " tensor([23., 15., 15.,  4.,  5.]))"
      ]
     },
     "execution_count": 42,
     "metadata": {},
     "output_type": "execute_result"
    }
   ],
   "source": [
    "Xtr[:5], Ytr[:5]"
   ]
  },
  {
   "cell_type": "code",
   "execution_count": 48,
   "id": "d343ec0e-fbdd-4246-96c4-5c6e3e6a91a5",
   "metadata": {},
   "outputs": [],
   "source": [
    "## Form the Embeddings\n",
    "\n",
    "EMBEDDING_DIM = 2\n",
    "C = torch.rand((27, EMBEDDING_DIM))"
   ]
  },
  {
   "cell_type": "code",
   "execution_count": 52,
   "id": "6a3df350-6f56-47b8-8c5f-053bca7b77f1",
   "metadata": {},
   "outputs": [
    {
     "data": {
      "text/plain": [
       "tensor([[0.9207, 0.7339],\n",
       "        [0.2124, 0.6977],\n",
       "        [0.2395, 0.2861],\n",
       "        [0.4241, 0.5470]])"
      ]
     },
     "execution_count": 52,
     "metadata": {},
     "output_type": "execute_result"
    }
   ],
   "source": [
    "C[:4]"
   ]
  },
  {
   "cell_type": "code",
   "execution_count": 86,
   "id": "52316680-3005-410a-9b56-87e5f002115d",
   "metadata": {},
   "outputs": [
    {
     "data": {
      "text/plain": [
       "(torch.Size([235587, 3]), torch.Size([235587]))"
      ]
     },
     "execution_count": 86,
     "metadata": {},
     "output_type": "execute_result"
    }
   ],
   "source": [
    "block_size = 3 # context length: how many characters do we take to predict the next one?\n",
    "X, Y = [], []\n",
    "for w in allWords:\n",
    "  \n",
    "  #print(w)\n",
    "  context = [0] * block_size\n",
    "  for ch in w + '.':\n",
    "    ix = stoi[ch]\n",
    "    X.append(context)\n",
    "    Y.append(ix)\n",
    "    context = context[1:] + [ix] # crop and append\n",
    "  \n",
    "X = torch.tensor(X)\n",
    "Y = torch.tensor(Y)\n",
    "\n",
    "X.shape, Y.shape"
   ]
  },
  {
   "cell_type": "code",
   "execution_count": 55,
   "id": "f2b54ed8-fc5e-4a8c-83f2-766684b3358f",
   "metadata": {},
   "outputs": [],
   "source": [
    "emb = C[X]"
   ]
  },
  {
   "cell_type": "code",
   "execution_count": 56,
   "id": "a07b0102-a16f-46c3-9ac5-2c79d2944b1d",
   "metadata": {},
   "outputs": [
    {
     "data": {
      "text/plain": [
       "torch.Size([235587, 3, 2])"
      ]
     },
     "execution_count": 56,
     "metadata": {},
     "output_type": "execute_result"
    }
   ],
   "source": [
    "emb.shape"
   ]
  },
  {
   "cell_type": "code",
   "execution_count": 58,
   "id": "fc643988-99b9-4890-b1dd-163dd4022b12",
   "metadata": {},
   "outputs": [
    {
     "data": {
      "text/plain": [
       "tensor([[0.9207, 0.7339],\n",
       "        [0.9207, 0.7339],\n",
       "        [0.9207, 0.7339]])"
      ]
     },
     "execution_count": 58,
     "metadata": {},
     "output_type": "execute_result"
    }
   ],
   "source": [
    "emb[0]"
   ]
  },
  {
   "cell_type": "code",
   "execution_count": 57,
   "id": "f307f9d8-2ab7-4348-9a7b-94003a4b9c8c",
   "metadata": {},
   "outputs": [
    {
     "data": {
      "text/plain": [
       "tensor([[0.9207, 0.7339],\n",
       "        [0.9207, 0.7339],\n",
       "        [0.9207, 0.7339]])"
      ]
     },
     "execution_count": 57,
     "metadata": {},
     "output_type": "execute_result"
    }
   ],
   "source": [
    "emb[0]"
   ]
  },
  {
   "cell_type": "code",
   "execution_count": 60,
   "id": "173a44cc-d3f7-492c-bc58-dfeb72db3189",
   "metadata": {},
   "outputs": [
    {
     "data": {
      "text/plain": [
       "tensor([[0.9207, 0.7339, 0.9207, 0.7339, 0.9207, 0.7339]])"
      ]
     },
     "execution_count": 60,
     "metadata": {},
     "output_type": "execute_result"
    }
   ],
   "source": [
    "emb[0].view(-1, 6)"
   ]
  },
  {
   "cell_type": "code",
   "execution_count": 61,
   "id": "cdb8e8e5-b810-4c3b-baeb-f2c9f5c94444",
   "metadata": {},
   "outputs": [],
   "source": [
    "## Let's do it baby :>"
   ]
  },
  {
   "cell_type": "code",
   "execution_count": 106,
   "id": "6d01edaf-684b-4d33-8b1d-26f48ac8e706",
   "metadata": {},
   "outputs": [],
   "source": [
    "EMBEDDING_DIM = 10\n",
    "NUM_NEURONS = 50\n",
    "\n",
    "g = torch.Generator().manual_seed(1234)\n",
    "C = torch.rand((27, EMBEDDING_DIM), generator=g, requires_grad=True)    ## EMBEDDING_DIM IS THE HYPERPARAMETER WHICH CAN BE TUNED HERE\n",
    "\n",
    "# Params for the first layer\n",
    "W1 = torch.rand((EMBEDDING_DIM * BLOCK_SIZE, NUM_NEURONS), generator=g, requires_grad=True)   ## NUM_NEURONS IS THE PARAMETER WHICH CAN ALSO BE TUNED TO GET THE OPTIMAL RESULTS\n",
    "b1 = torch.rand(NUM_NEURONS, generator=g, requires_grad=True)\n",
    "\n",
    "# params for the second layer\n",
    "W2 = torch.rand((NUM_NEURONS, 27), generator=g, requires_grad=True)\n",
    "b2 = torch.rand(27, generator=g, requires_grad=True)\n",
    "\n",
    "parameters = [C, W1, W2, b1, b2]"
   ]
  },
  {
   "cell_type": "code",
   "execution_count": 107,
   "id": "b0d8b4ca-2aed-47fa-9ec1-f194b86293fe",
   "metadata": {},
   "outputs": [
    {
     "data": {
      "text/plain": [
       "3197"
      ]
     },
     "execution_count": 107,
     "metadata": {},
     "output_type": "execute_result"
    }
   ],
   "source": [
    "sum(p.nelement() for p in parameters)"
   ]
  },
  {
   "cell_type": "code",
   "execution_count": 108,
   "id": "185adaf7-bf14-4c91-843f-1972694580bc",
   "metadata": {},
   "outputs": [
    {
     "name": "stdout",
     "output_type": "stream",
     "text": [
      "Iter: 0 || Loss: 5.348620414733887\n",
      "Iter: 20000 || Loss: 2.795116662979126\n",
      "Iter: 40000 || Loss: 2.712987184524536\n",
      "Iter: 60000 || Loss: 2.2490389347076416\n",
      "Iter: 80000 || Loss: 2.1431121826171875\n",
      "Iter: 100000 || Loss: 2.7145469188690186\n",
      "Iter: 120000 || Loss: 2.2412524223327637\n",
      "Iter: 140000 || Loss: 2.4377195835113525\n",
      "Iter: 160000 || Loss: 2.2447659969329834\n",
      "Iter: 180000 || Loss: 2.433130979537964\n"
     ]
    }
   ],
   "source": [
    "# Now is the show time\n",
    "\n",
    "for i in range(200000):\n",
    "    # Minibatch for computational ease\n",
    "    ixs = torch.randint(0, Xtr.shape[0], (32, ))\n",
    "\n",
    "    # forward pass\n",
    "    emb = C[Xtr[ixs].type(torch.int32)]\n",
    "    h = torch.tanh(emb.view(-1, EMBEDDING_DIM * BLOCK_SIZE) @ W1 + b1)  # first layer\n",
    "    logits = h @ W2 + b2                                               # Second layer\n",
    "    loss = F.cross_entropy(logits, Ytr[ixs].type(torch.int64))\n",
    "\n",
    "    # backward pass\n",
    "    for p in parameters:\n",
    "        p.grad = None\n",
    "    loss.backward()\n",
    "\n",
    "    # update\n",
    "    lr = 0.1 if i < 100000 else 0.01\n",
    "    for p in parameters:\n",
    "        p.data += -lr * p.grad\n",
    "\n",
    "    if i % (200000 / 10) == 0:\n",
    "        print(f\"Iter: {i} || Loss: {loss.item()}\")"
   ]
  },
  {
   "cell_type": "code",
   "execution_count": 70,
   "id": "43a72605-a443-4a5c-9800-c8e7a9c745bc",
   "metadata": {},
   "outputs": [
    {
     "data": {
      "text/plain": [
       "torch.float32"
      ]
     },
     "execution_count": 70,
     "metadata": {},
     "output_type": "execute_result"
    }
   ],
   "source": [
    "Xtr.dtype"
   ]
  },
  {
   "cell_type": "code",
   "execution_count": 109,
   "id": "dcc4b7e7-437e-41e4-9c12-d2f68d60b133",
   "metadata": {},
   "outputs": [
    {
     "data": {
      "image/png": "[encoded data removed]",
      "text/plain": [
       "<Figure size 800x800 with 1 Axes>"
      ]
     },
     "metadata": {},
     "output_type": "display_data"
    }
   ],
   "source": [
    "plt.figure(figsize=(8,8))\n",
    "plt.scatter(C[:,0].data, C[:,1].data, s=200)\n",
    "for i in range(C.shape[0]):\n",
    "    plt.text(C[i,0].item(), C[i,1].item(), itos[i], ha=\"center\", va=\"center\", color='white')\n",
    "plt.grid('minor')"
   ]
  },
  {
   "cell_type": "code",
   "execution_count": 104,
   "id": "277fcee7-cde8-4abf-8830-676c0cf6990d",
   "metadata": {},
   "outputs": [
    {
     "data": {
      "text/plain": [
       "torch.Size([1, 3, 20])"
      ]
     },
     "execution_count": 104,
     "metadata": {},
     "output_type": "execute_result"
    }
   ],
   "source": [
    "context = [0] * BLOCK_SIZE\n",
    "C[torch.tensor([context])].shape"
   ]
  },
  {
   "cell_type": "code",
   "execution_count": 117,
   "id": "432939e0-4d83-4ceb-8ce8-699cca96ce57",
   "metadata": {},
   "outputs": [
    {
     "name": "stdout",
     "output_type": "stream",
     "text": [
      "monationangeres.\n",
      "nd.\n",
      "rimpleethrecendrarg.\n",
      "adered.\n",
      "elithell.\n",
      "pented.\n",
      "poust.\n",
      "farted.\n",
      "bims.\n",
      "tracn.\n",
      "shoberging.\n",
      "ins.\n",
      "contreed.\n",
      "spent.\n",
      "ucfius.\n",
      "pred.\n",
      "rey.\n",
      "dufmehs.\n",
      "reash.\n",
      "stouds.\n"
     ]
    }
   ],
   "source": [
    "# sample from the model\n",
    "g = torch.Generator().manual_seed(2147483647 + 10)\n",
    "\n",
    "for _ in range(20):\n",
    "    \n",
    "    out = []\n",
    "    context = [0] * BLOCK_SIZE # initialize with all ...\n",
    "    while True:\n",
    "      emb = C[torch.tensor([context])] # (1,block_size,d)\n",
    "      h = torch.tanh(emb.view(1, -1) @ W1 + b1)\n",
    "      logits = h @ W2 + b2\n",
    "      probs = F.softmax(logits, dim=1)\n",
    "      ix = torch.multinomial(probs, num_samples=1, generator=g).item()\n",
    "      context = context[1:] + [ix]\n",
    "      out.append(ix)\n",
    "      if ix == 0:\n",
    "        break\n",
    "    \n",
    "    print(''.join(itos[i] for i in out))"
   ]
  },
  {
   "cell_type": "code",
   "execution_count": 113,
   "id": "a5d94bdf-c95e-42fc-97d9-5735be232f70",
   "metadata": {},
   "outputs": [
    {
     "data": {
      "text/plain": [
       "tensor(2.2958, grad_fn=<NllLossBackward0>)"
      ]
     },
     "execution_count": 113,
     "metadata": {},
     "output_type": "execute_result"
    }
   ],
   "source": [
    "emb = C[Xte.type(torch.int64)] # (32, 3, 2)\n",
    "h = torch.tanh(emb.view(-1, EMBEDDING_DIM * BLOCK_SIZE) @ W1 + b1) # (32, 100)\n",
    "logits = h @ W2 + b2 # (32, 27)\n",
    "loss = F.cross_entropy(logits, Yte.type(torch.int64))\n",
    "loss"
   ]
  },
  {
   "cell_type": "code",
   "execution_count": null,
   "id": "83649fd1-9d10-4a52-8d4b-00ac984f24c3",
   "metadata": {},
   "outputs": [],
   "source": []
  }
 ],
 "metadata": {
  "kernelspec": {
   "display_name": "Python 3 (ipykernel)",
   "language": "python",
   "name": "python3"
  },
  "language_info": {
   "codemirror_mode": {
    "name": "ipython",
    "version": 3
   },
   "file_extension": ".py",
   "mimetype": "text/x-python",
   "name": "python",
   "nbconvert_exporter": "python",
   "pygments_lexer": "ipython3",
   "version": "3.11.5"
  }
 },
 "nbformat": 4,
 "nbformat_minor": 5
}
