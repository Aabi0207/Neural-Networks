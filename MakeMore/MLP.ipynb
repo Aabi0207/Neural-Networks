{
 "cells": [
  {
   "cell_type": "markdown",
   "id": "a46794ea-8656-4193-8333-3d46b4d1d57c",
   "metadata": {},
   "source": [
    "# Multi Layer Perceptron"
   ]
  },
  {
   "cell_type": "code",
   "execution_count": 1,
   "id": "0c596cb7-dbb9-4b0b-8570-2224f5fbd2e4",
   "metadata": {},
   "outputs": [],
   "source": [
    "import torch\n",
    "import torch.nn.functional as F\n",
    "import matplotlib.pyplot as plt\n",
    "%matplotlib inline"
   ]
  },
  {
   "cell_type": "code",
   "execution_count": 8,
   "id": "f48e7f46-8f4d-44c7-8009-dad71e8753cb",
   "metadata": {},
   "outputs": [],
   "source": [
    "# Load all the words\n",
    "words = open('30k.txt', 'r').read().splitlines()"
   ]
  },
  {
   "cell_type": "code",
   "execution_count": 9,
   "id": "5e9481ca-f71f-4d36-8eca-27f67c8d47b7",
   "metadata": {},
   "outputs": [
    {
     "data": {
      "text/plain": [
       "30000"
      ]
     },
     "execution_count": 9,
     "metadata": {},
     "output_type": "execute_result"
    }
   ],
   "source": [
    "len(words)"
   ]
  },
  {
   "cell_type": "code",
   "execution_count": 10,
   "id": "53db2ff3-ff56-46fb-953b-c32bf1c84dba",
   "metadata": {},
   "outputs": [
    {
     "data": {
      "text/plain": [
       "['the\\t', 'of\\t', 'and\\t', 'to\\t', 'a\\t']"
      ]
     },
     "execution_count": 10,
     "metadata": {},
     "output_type": "execute_result"
    }
   ],
   "source": [
    "words[:5]"
   ]
  },
  {
   "cell_type": "code",
   "execution_count": 18,
   "id": "e3f8ec81-487f-4c14-b233-4daf7e4cfe8f",
   "metadata": {},
   "outputs": [],
   "source": [
    "allWords = []\n",
    "for word in words:\n",
    "    newWord = \"\"\n",
    "    for ch in list(word):\n",
    "        if ch == \"\\t\":\n",
    "            break\n",
    "        newWord += ch\n",
    "    allWords.append(newWord)"
   ]
  },
  {
   "cell_type": "code",
   "execution_count": 20,
   "id": "ca650538-4cba-4600-a983-108ded9d21b1",
   "metadata": {},
   "outputs": [
    {
     "data": {
      "text/plain": [
       "['the', 'of', 'and', 'to', 'a']"
      ]
     },
     "execution_count": 20,
     "metadata": {},
     "output_type": "execute_result"
    }
   ],
   "source": [
    "allWords[:5]"
   ]
  },
  {
   "cell_type": "code",
   "execution_count": 21,
   "id": "d6825fa7-db22-4430-b3b4-f49592031a96",
   "metadata": {},
   "outputs": [
    {
     "data": {
      "text/plain": [
       "30000"
      ]
     },
     "execution_count": 21,
     "metadata": {},
     "output_type": "execute_result"
    }
   ],
   "source": [
    "len(allWords)"
   ]
  },
  {
   "cell_type": "code",
   "execution_count": 24,
   "id": "8618f052-447f-48d9-8a1e-a91fd10f6343",
   "metadata": {},
   "outputs": [],
   "source": [
    "chars = sorted(list(set(''.join(allWords))))"
   ]
  },
  {
   "cell_type": "code",
   "execution_count": 26,
   "id": "d666eac7-c325-4ff8-9ea0-1de87a371454",
   "metadata": {},
   "outputs": [
    {
     "data": {
      "text/plain": [
       "26"
      ]
     },
     "execution_count": 26,
     "metadata": {},
     "output_type": "execute_result"
    }
   ],
   "source": [
    "len(chars)"
   ]
  },
  {
   "cell_type": "code",
   "execution_count": 27,
   "id": "1149f9e8-f890-49b6-aea5-44561f92d27e",
   "metadata": {},
   "outputs": [],
   "source": [
    "stoi = {s:i+1 for i,s in enumerate(chars)}\n",
    "stoi['.'] = 0\n",
    "itos = {i:s for s, i in stoi.items()}"
   ]
  },
  {
   "cell_type": "code",
   "execution_count": 28,
   "id": "a42532d7-2601-4617-af29-70d8e906057f",
   "metadata": {},
   "outputs": [
    {
     "data": {
      "text/plain": [
       "{'a': 1,\n",
       " 'b': 2,\n",
       " 'c': 3,\n",
       " 'd': 4,\n",
       " 'e': 5,\n",
       " 'f': 6,\n",
       " 'g': 7,\n",
       " 'h': 8,\n",
       " 'i': 9,\n",
       " 'j': 10,\n",
       " 'k': 11,\n",
       " 'l': 12,\n",
       " 'm': 13,\n",
       " 'n': 14,\n",
       " 'o': 15,\n",
       " 'p': 16,\n",
       " 'q': 17,\n",
       " 'r': 18,\n",
       " 's': 19,\n",
       " 't': 20,\n",
       " 'u': 21,\n",
       " 'v': 22,\n",
       " 'w': 23,\n",
       " 'x': 24,\n",
       " 'y': 25,\n",
       " 'z': 26,\n",
       " '.': 0}"
      ]
     },
     "execution_count": 28,
     "metadata": {},
     "output_type": "execute_result"
    }
   ],
   "source": [
    "stoi"
   ]
  },
  {
   "cell_type": "code",
   "execution_count": null,
   "id": "4b29e7d9-435a-4f99-a298-5ba038c4108b",
   "metadata": {},
   "outputs": [],
   "source": []
  }
 ],
 "metadata": {
  "kernelspec": {
   "display_name": "Python 3 (ipykernel)",
   "language": "python",
   "name": "python3"
  },
  "language_info": {
   "codemirror_mode": {
    "name": "ipython",
    "version": 3
   },
   "file_extension": ".py",
   "mimetype": "text/x-python",
   "name": "python",
   "nbconvert_exporter": "python",
   "pygments_lexer": "ipython3",
   "version": "3.11.5"
  }
 },
 "nbformat": 4,
 "nbformat_minor": 5
}
